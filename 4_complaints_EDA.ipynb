{
 "cells": [
  {
   "cell_type": "markdown",
   "metadata": {
    "id": "B20oxJOYizah"
   },
   "source": [
    "# Complaints Exploratory Data Analysis \n",
    "This notebook contains EDA on civilian complaints filed against New York City police officers from from 1985 to 2020, obtained from [Propublica](www.propublica.org/datastore/dataset/civilian-complaints-against-new-york-city-police-officers)\n"
   ]
  },
  {
   "cell_type": "markdown",
   "metadata": {
    "id": "4pn6rqclIJcz"
   },
   "source": [
    "---\n",
    "## IMPORTS\n",
    "---"
   ]
  },
  {
   "cell_type": "code",
   "execution_count": 2,
   "metadata": {
    "executionInfo": {
     "elapsed": 922,
     "status": "ok",
     "timestamp": 1624574643056,
     "user": {
      "displayName": "Yasmine Hays",
      "photoUrl": "https://lh3.googleusercontent.com/a-/AOh14Gg52PbFt6jwoxDYbyF_ch9EHM1JhezPqfXMZuGJ=s64",
      "userId": "05946308838878982885"
     },
     "user_tz": 420
    },
    "id": "z-Ledz_admHz"
   },
   "outputs": [],
   "source": [
    "import pandas as pd \n",
    "import numpy as np \n",
    "import seaborn as sns\n",
    "import datetime\n",
    "import time\n",
    "import matplotlib.pyplot as plt\n"
   ]
  },
  {
   "cell_type": "markdown",
   "metadata": {
    "id": "e8SwCWaTa3Jm"
   },
   "source": [
    "\n",
    "---\n",
    "## Exploratory Data Analysis\n",
    "---"
   ]
  },
  {
   "cell_type": "code",
   "execution_count": 3,
   "metadata": {
    "executionInfo": {
     "elapsed": 333,
     "status": "ok",
     "timestamp": 1624574647347,
     "user": {
      "displayName": "Yasmine Hays",
      "photoUrl": "https://lh3.googleusercontent.com/a-/AOh14Gg52PbFt6jwoxDYbyF_ch9EHM1JhezPqfXMZuGJ=s64",
      "userId": "05946308838878982885"
     },
     "user_tz": 420
    },
    "id": "CCo7TZl5dyNQ"
   },
   "outputs": [],
   "source": [
    "complaints = pd.read_csv(\"/content/cleaned_complaints_data.csv\")"
   ]
  },
  {
   "cell_type": "code",
   "execution_count": 4,
   "metadata": {
    "colab": {
     "base_uri": "https://localhost:8080/",
     "height": 377
    },
    "executionInfo": {
     "elapsed": 147,
     "status": "ok",
     "timestamp": 1624574649657,
     "user": {
      "displayName": "Yasmine Hays",
      "photoUrl": "https://lh3.googleusercontent.com/a-/AOh14Gg52PbFt6jwoxDYbyF_ch9EHM1JhezPqfXMZuGJ=s64",
      "userId": "05946308838878982885"
     },
     "user_tz": 420
    },
    "id": "fus0rzUmd3TZ",
    "outputId": "56a24d74-7e40-4676-b770-3b658fc7bd2d"
   },
   "outputs": [
    {
     "data": {
      "text/html": [
       "<div>\n",
       "<style scoped>\n",
       "    .dataframe tbody tr th:only-of-type {\n",
       "        vertical-align: middle;\n",
       "    }\n",
       "\n",
       "    .dataframe tbody tr th {\n",
       "        vertical-align: top;\n",
       "    }\n",
       "\n",
       "    .dataframe thead th {\n",
       "        text-align: right;\n",
       "    }\n",
       "</style>\n",
       "<table border=\"1\" class=\"dataframe\">\n",
       "  <thead>\n",
       "    <tr style=\"text-align: right;\">\n",
       "      <th></th>\n",
       "      <th>Unnamed: 0</th>\n",
       "      <th>unique_mos_id</th>\n",
       "      <th>first_name</th>\n",
       "      <th>last_name</th>\n",
       "      <th>command_now</th>\n",
       "      <th>shield_no</th>\n",
       "      <th>complaint_id</th>\n",
       "      <th>month_received</th>\n",
       "      <th>year_received</th>\n",
       "      <th>month_closed</th>\n",
       "      <th>year_closed</th>\n",
       "      <th>command_at_incident</th>\n",
       "      <th>rank_abbrev_incident</th>\n",
       "      <th>rank_abbrev_now</th>\n",
       "      <th>rank_now</th>\n",
       "      <th>rank_incident</th>\n",
       "      <th>mos_ethnicity</th>\n",
       "      <th>mos_gender</th>\n",
       "      <th>mos_age_incident</th>\n",
       "      <th>complainant_ethnicity</th>\n",
       "      <th>complainant_gender</th>\n",
       "      <th>complainant_age_incident</th>\n",
       "      <th>fado_type</th>\n",
       "      <th>allegation</th>\n",
       "      <th>precinct</th>\n",
       "      <th>contact_reason</th>\n",
       "      <th>outcome_description</th>\n",
       "      <th>board_disposition</th>\n",
       "    </tr>\n",
       "  </thead>\n",
       "  <tbody>\n",
       "    <tr>\n",
       "      <th>0</th>\n",
       "      <td>0</td>\n",
       "      <td>10004</td>\n",
       "      <td>Jonathan</td>\n",
       "      <td>Ruiz</td>\n",
       "      <td>078 PCT</td>\n",
       "      <td>8409</td>\n",
       "      <td>42835</td>\n",
       "      <td>7</td>\n",
       "      <td>2019</td>\n",
       "      <td>5</td>\n",
       "      <td>2020</td>\n",
       "      <td>078 PCT</td>\n",
       "      <td>POM</td>\n",
       "      <td>POM</td>\n",
       "      <td>Police Officer</td>\n",
       "      <td>Police Officer</td>\n",
       "      <td>Hispanic</td>\n",
       "      <td>M</td>\n",
       "      <td>32</td>\n",
       "      <td>Black</td>\n",
       "      <td>Female</td>\n",
       "      <td>38.0</td>\n",
       "      <td>Abuse of Authority</td>\n",
       "      <td>Failure to provide RTKA card</td>\n",
       "      <td>78.0</td>\n",
       "      <td>Report-domestic dispute</td>\n",
       "      <td>No arrest made or summons issued</td>\n",
       "      <td>Substantiated (Command Lvl Instructions)</td>\n",
       "    </tr>\n",
       "    <tr>\n",
       "      <th>1</th>\n",
       "      <td>1</td>\n",
       "      <td>10007</td>\n",
       "      <td>John</td>\n",
       "      <td>Sears</td>\n",
       "      <td>078 PCT</td>\n",
       "      <td>5952</td>\n",
       "      <td>24601</td>\n",
       "      <td>11</td>\n",
       "      <td>2011</td>\n",
       "      <td>8</td>\n",
       "      <td>2012</td>\n",
       "      <td>PBBS</td>\n",
       "      <td>POM</td>\n",
       "      <td>POM</td>\n",
       "      <td>Police Officer</td>\n",
       "      <td>Police Officer</td>\n",
       "      <td>White</td>\n",
       "      <td>M</td>\n",
       "      <td>24</td>\n",
       "      <td>Black</td>\n",
       "      <td>Male</td>\n",
       "      <td>26.0</td>\n",
       "      <td>Discourtesy</td>\n",
       "      <td>Action</td>\n",
       "      <td>67.0</td>\n",
       "      <td>Moving violation</td>\n",
       "      <td>Moving violation summons issued</td>\n",
       "      <td>Substantiated (Charges)</td>\n",
       "    </tr>\n",
       "    <tr>\n",
       "      <th>2</th>\n",
       "      <td>2</td>\n",
       "      <td>10007</td>\n",
       "      <td>John</td>\n",
       "      <td>Sears</td>\n",
       "      <td>078 PCT</td>\n",
       "      <td>5952</td>\n",
       "      <td>24601</td>\n",
       "      <td>11</td>\n",
       "      <td>2011</td>\n",
       "      <td>8</td>\n",
       "      <td>2012</td>\n",
       "      <td>PBBS</td>\n",
       "      <td>POM</td>\n",
       "      <td>POM</td>\n",
       "      <td>Police Officer</td>\n",
       "      <td>Police Officer</td>\n",
       "      <td>White</td>\n",
       "      <td>M</td>\n",
       "      <td>24</td>\n",
       "      <td>Black</td>\n",
       "      <td>Male</td>\n",
       "      <td>26.0</td>\n",
       "      <td>Offensive Language</td>\n",
       "      <td>Race</td>\n",
       "      <td>67.0</td>\n",
       "      <td>Moving violation</td>\n",
       "      <td>Moving violation summons issued</td>\n",
       "      <td>Substantiated (Charges)</td>\n",
       "    </tr>\n",
       "    <tr>\n",
       "      <th>3</th>\n",
       "      <td>3</td>\n",
       "      <td>10007</td>\n",
       "      <td>John</td>\n",
       "      <td>Sears</td>\n",
       "      <td>078 PCT</td>\n",
       "      <td>5952</td>\n",
       "      <td>26146</td>\n",
       "      <td>7</td>\n",
       "      <td>2012</td>\n",
       "      <td>9</td>\n",
       "      <td>2013</td>\n",
       "      <td>PBBS</td>\n",
       "      <td>POM</td>\n",
       "      <td>POM</td>\n",
       "      <td>Police Officer</td>\n",
       "      <td>Police Officer</td>\n",
       "      <td>White</td>\n",
       "      <td>M</td>\n",
       "      <td>25</td>\n",
       "      <td>Black</td>\n",
       "      <td>Male</td>\n",
       "      <td>45.0</td>\n",
       "      <td>Abuse of Authority</td>\n",
       "      <td>Question</td>\n",
       "      <td>67.0</td>\n",
       "      <td>PD suspected C/V of violation/crime - street</td>\n",
       "      <td>No arrest made or summons issued</td>\n",
       "      <td>Substantiated (Charges)</td>\n",
       "    </tr>\n",
       "    <tr>\n",
       "      <th>4</th>\n",
       "      <td>4</td>\n",
       "      <td>10009</td>\n",
       "      <td>Noemi</td>\n",
       "      <td>Sierra</td>\n",
       "      <td>078 PCT</td>\n",
       "      <td>24058</td>\n",
       "      <td>40253</td>\n",
       "      <td>8</td>\n",
       "      <td>2018</td>\n",
       "      <td>2</td>\n",
       "      <td>2019</td>\n",
       "      <td>078 PCT</td>\n",
       "      <td>POF</td>\n",
       "      <td>POF</td>\n",
       "      <td>Police Officer</td>\n",
       "      <td>Police Officer</td>\n",
       "      <td>Hispanic</td>\n",
       "      <td>F</td>\n",
       "      <td>39</td>\n",
       "      <td>NaN</td>\n",
       "      <td>NaN</td>\n",
       "      <td>16.0</td>\n",
       "      <td>Force</td>\n",
       "      <td>Physical force</td>\n",
       "      <td>67.0</td>\n",
       "      <td>Report-dispute</td>\n",
       "      <td>Arrest - other violation/crime</td>\n",
       "      <td>Substantiated (Command Discipline A)</td>\n",
       "    </tr>\n",
       "  </tbody>\n",
       "</table>\n",
       "</div>"
      ],
      "text/plain": [
       "   Unnamed: 0  ...                         board_disposition\n",
       "0           0  ...  Substantiated (Command Lvl Instructions)\n",
       "1           1  ...                   Substantiated (Charges)\n",
       "2           2  ...                   Substantiated (Charges)\n",
       "3           3  ...                   Substantiated (Charges)\n",
       "4           4  ...      Substantiated (Command Discipline A)\n",
       "\n",
       "[5 rows x 28 columns]"
      ]
     },
     "execution_count": 4,
     "metadata": {
      "tags": []
     },
     "output_type": "execute_result"
    }
   ],
   "source": [
    "complaints.head()"
   ]
  },
  {
   "cell_type": "code",
   "execution_count": 5,
   "metadata": {
    "colab": {
     "base_uri": "https://localhost:8080/"
    },
    "executionInfo": {
     "elapsed": 159,
     "status": "ok",
     "timestamp": 1624574653218,
     "user": {
      "displayName": "Yasmine Hays",
      "photoUrl": "https://lh3.googleusercontent.com/a-/AOh14Gg52PbFt6jwoxDYbyF_ch9EHM1JhezPqfXMZuGJ=s64",
      "userId": "05946308838878982885"
     },
     "user_tz": 420
    },
    "id": "uSGwh85FPeer",
    "outputId": "b9a22ee7-d679-4838-81a9-65616222659a"
   },
   "outputs": [
    {
     "data": {
      "text/plain": [
       "(33358, 28)"
      ]
     },
     "execution_count": 5,
     "metadata": {
      "tags": []
     },
     "output_type": "execute_result"
    }
   ],
   "source": [
    "#total number of rows and columns in the dataset\n",
    "complaints.shape"
   ]
  },
  {
   "cell_type": "code",
   "execution_count": 6,
   "metadata": {
    "executionInfo": {
     "elapsed": 138,
     "status": "ok",
     "timestamp": 1624510940027,
     "user": {
      "displayName": "Yasmine Hays",
      "photoUrl": "https://lh3.googleusercontent.com/a-/AOh14Gg52PbFt6jwoxDYbyF_ch9EHM1JhezPqfXMZuGJ=s64",
      "userId": "05946308838878982885"
     },
     "user_tz": 420
    },
    "id": "g_dOR0TfytZb"
   },
   "outputs": [],
   "source": [
    "#complaints = complaints[complaints['complainant_age_incident'] > 0 ]\n",
    "#complaints = complaints[complaints['precinct'] < 200 ]"
   ]
  },
  {
   "cell_type": "code",
   "execution_count": 6,
   "metadata": {
    "colab": {
     "base_uri": "https://localhost:8080/"
    },
    "executionInfo": {
     "elapsed": 145,
     "status": "ok",
     "timestamp": 1624574655949,
     "user": {
      "displayName": "Yasmine Hays",
      "photoUrl": "https://lh3.googleusercontent.com/a-/AOh14Gg52PbFt6jwoxDYbyF_ch9EHM1JhezPqfXMZuGJ=s64",
      "userId": "05946308838878982885"
     },
     "user_tz": 420
    },
    "id": "rIPfhdiiOXBv",
    "outputId": "38e0c6cf-2bf6-4898-85e1-f1060f94ebff"
   },
   "outputs": [
    {
     "name": "stdout",
     "output_type": "stream",
     "text": [
      "36\n",
      "1985\n",
      "2020\n"
     ]
    }
   ],
   "source": [
    "print(complaints['year_received'].nunique())\n",
    "print(complaints['year_received'].min())\n",
    "print(complaints['year_received'].max())"
   ]
  },
  {
   "cell_type": "markdown",
   "metadata": {
    "id": "4Qr7h2TiRQ1A"
   },
   "source": [
    "The dataset contains 33,358 rows of data spanning 36 years from 1985 to 2020"
   ]
  },
  {
   "cell_type": "code",
   "execution_count": 7,
   "metadata": {
    "colab": {
     "base_uri": "https://localhost:8080/"
    },
    "executionInfo": {
     "elapsed": 151,
     "status": "ok",
     "timestamp": 1624574658159,
     "user": {
      "displayName": "Yasmine Hays",
      "photoUrl": "https://lh3.googleusercontent.com/a-/AOh14Gg52PbFt6jwoxDYbyF_ch9EHM1JhezPqfXMZuGJ=s64",
      "userId": "05946308838878982885"
     },
     "user_tz": 420
    },
    "id": "bVHFeltoql5Y",
    "outputId": "14e7090b-6f04-44f9-ad08-ef5feebd3b53"
   },
   "outputs": [
    {
     "data": {
      "text/plain": [
       "Male                     0.824949\n",
       "Female                   0.172170\n",
       "Not described            0.001955\n",
       "Transwoman (MTF)         0.000686\n",
       "Transman (FTM)           0.000171\n",
       "Gender non-conforming    0.000069\n",
       "Name: complainant_gender, dtype: float64"
      ]
     },
     "execution_count": 7,
     "metadata": {
      "tags": []
     },
     "output_type": "execute_result"
    }
   ],
   "source": [
    "complaints['complainant_gender'].value_counts(normalize = True)"
   ]
  },
  {
   "cell_type": "code",
   "execution_count": 8,
   "metadata": {
    "colab": {
     "base_uri": "https://localhost:8080/"
    },
    "executionInfo": {
     "elapsed": 153,
     "status": "ok",
     "timestamp": 1624574660977,
     "user": {
      "displayName": "Yasmine Hays",
      "photoUrl": "https://lh3.googleusercontent.com/a-/AOh14Gg52PbFt6jwoxDYbyF_ch9EHM1JhezPqfXMZuGJ=s64",
      "userId": "05946308838878982885"
     },
     "user_tz": 420
    },
    "id": "ydtrO2slNbwR",
    "outputId": "10026927-9c8b-4a5f-e99a-326a20fb30b9"
   },
   "outputs": [
    {
     "data": {
      "text/plain": [
       "Black              0.592303\n",
       "Hispanic           0.222330\n",
       "White              0.096318\n",
       "Unknown            0.036028\n",
       "Other Race         0.023430\n",
       "Asian              0.018412\n",
       "Refused            0.008964\n",
       "American Indian    0.002215\n",
       "Name: complainant_ethnicity, dtype: float64"
      ]
     },
     "execution_count": 8,
     "metadata": {
      "tags": []
     },
     "output_type": "execute_result"
    }
   ],
   "source": [
    "proportion = complaints['complainant_ethnicity']\n",
    "proportion.value_counts(normalize= True)"
   ]
  },
  {
   "cell_type": "code",
   "execution_count": 9,
   "metadata": {
    "colab": {
     "base_uri": "https://localhost:8080/",
     "height": 622
    },
    "executionInfo": {
     "elapsed": 345,
     "status": "ok",
     "timestamp": 1624574663780,
     "user": {
      "displayName": "Yasmine Hays",
      "photoUrl": "https://lh3.googleusercontent.com/a-/AOh14Gg52PbFt6jwoxDYbyF_ch9EHM1JhezPqfXMZuGJ=s64",
      "userId": "05946308838878982885"
     },
     "user_tz": 420
    },
    "id": "b3jXby4EbQ0Y",
    "outputId": "533f1b48-e667-40c1-b731-cb829d98ae54"
   },
   "outputs": [
    {
     "data": {
      "image/png": "[encoded data removed]",
      "text/plain": [
       "<Figure size 720x720 with 1 Axes>"
      ]
     },
     "metadata": {
      "needs_background": "light",
      "tags": []
     },
     "output_type": "display_data"
    }
   ],
   "source": [
    "plt.figure(figsize = (10,10))\n",
    "sns.countplot(x = 'complainant_ethnicity', data = complaints, palette = 'magma')\n",
    "plt.title(\"Number of Complaints by Ethnicity\")\n",
    "plt.show()"
   ]
  },
  {
   "cell_type": "markdown",
   "metadata": {
    "id": "G6o-038JqfeZ"
   },
   "source": [
    "Nearly 60% of civilian complaints against NYPD officers were filed by Black People , 22% by Hispanic People and 10% from White people."
   ]
  },
  {
   "cell_type": "code",
   "execution_count": 11,
   "metadata": {
    "colab": {
     "base_uri": "https://localhost:8080/"
    },
    "executionInfo": {
     "elapsed": 153,
     "status": "ok",
     "timestamp": 1624574684081,
     "user": {
      "displayName": "Yasmine Hays",
      "photoUrl": "https://lh3.googleusercontent.com/a-/AOh14Gg52PbFt6jwoxDYbyF_ch9EHM1JhezPqfXMZuGJ=s64",
      "userId": "05946308838878982885"
     },
     "user_tz": 420
    },
    "id": "rXN8ZI7IiG05",
    "outputId": "0e991d4e-6ef6-4aa4-b21e-c5032e0a8f09"
   },
   "outputs": [
    {
     "data": {
      "text/plain": [
       "complainant_ethnicity\n",
       "American Indian    31.0\n",
       "Asian              31.0\n",
       "Black              30.0\n",
       "Hispanic           30.0\n",
       "Other Race         32.0\n",
       "Refused            33.0\n",
       "Unknown            28.0\n",
       "White              33.0\n",
       "Name: complainant_age_incident, dtype: float64"
      ]
     },
     "execution_count": 11,
     "metadata": {
      "tags": []
     },
     "output_type": "execute_result"
    }
   ],
   "source": [
    "ethnicity_by_age.median()"
   ]
  },
  {
   "cell_type": "markdown",
   "metadata": {
    "id": "7MxnKK05lhq8"
   },
   "source": [
    "Median age of complainants were slightly younger for Black and Hispanic groups than for White, Asian and American Indian people."
   ]
  },
  {
   "cell_type": "code",
   "execution_count": 12,
   "metadata": {
    "colab": {
     "base_uri": "https://localhost:8080/"
    },
    "executionInfo": {
     "elapsed": 151,
     "status": "ok",
     "timestamp": 1624574712711,
     "user": {
      "displayName": "Yasmine Hays",
      "photoUrl": "https://lh3.googleusercontent.com/a-/AOh14Gg52PbFt6jwoxDYbyF_ch9EHM1JhezPqfXMZuGJ=s64",
      "userId": "05946308838878982885"
     },
     "user_tz": 420
    },
    "id": "jjzS_q8RZ02s",
    "outputId": "88ca1675-7520-494f-958f-14bb6b373ece"
   },
   "outputs": [
    {
     "data": {
      "text/plain": [
       "75.0      2172\n",
       "73.0      1163\n",
       "44.0      1139\n",
       "46.0      1120\n",
       "67.0      1119\n",
       "          ... \n",
       "17.0        76\n",
       "111.0       37\n",
       "0.0         21\n",
       "22.0        12\n",
       "1000.0       3\n",
       "Name: precinct, Length: 79, dtype: int64"
      ]
     },
     "execution_count": 12,
     "metadata": {
      "tags": []
     },
     "output_type": "execute_result"
    }
   ],
   "source": [
    "#Total number of complaints by precinct \n",
    "complaints['precinct'].value_counts()"
   ]
  },
  {
   "cell_type": "markdown",
   "metadata": {
    "id": "568r-pSbbYyy"
   },
   "source": [
    "\n",
    "The range in the number of complaints filed against any single precinct is from 400 - 2172"
   ]
  },
  {
   "cell_type": "code",
   "execution_count": 13,
   "metadata": {
    "colab": {
     "base_uri": "https://localhost:8080/"
    },
    "executionInfo": {
     "elapsed": 149,
     "status": "ok",
     "timestamp": 1624574720627,
     "user": {
      "displayName": "Yasmine Hays",
      "photoUrl": "https://lh3.googleusercontent.com/a-/AOh14Gg52PbFt6jwoxDYbyF_ch9EHM1JhezPqfXMZuGJ=s64",
      "userId": "05946308838878982885"
     },
     "user_tz": 420
    },
    "id": "ES2UhlNQeWQ9",
    "outputId": "62959775-b177-4a8b-9075-62f2e615335a"
   },
   "outputs": [
    {
     "data": {
      "text/plain": [
       "Abuse of Authority    20292\n",
       "Force                  7636\n",
       "Discourtesy            4677\n",
       "Offensive Language      753\n",
       "Name: fado_type, dtype: int64"
      ]
     },
     "execution_count": 13,
     "metadata": {
      "tags": []
     },
     "output_type": "execute_result"
    }
   ],
   "source": [
    "#Different type of complaint catagories\n",
    "complaints['fado_type'].value_counts()"
   ]
  },
  {
   "cell_type": "code",
   "execution_count": 14,
   "metadata": {
    "colab": {
     "base_uri": "https://localhost:8080/",
     "height": 355
    },
    "executionInfo": {
     "elapsed": 409,
     "status": "ok",
     "timestamp": 1624574724220,
     "user": {
      "displayName": "Yasmine Hays",
      "photoUrl": "https://lh3.googleusercontent.com/a-/AOh14Gg52PbFt6jwoxDYbyF_ch9EHM1JhezPqfXMZuGJ=s64",
      "userId": "05946308838878982885"
     },
     "user_tz": 420
    },
    "id": "SiorJKQCe0xy",
    "outputId": "828cedd9-1074-44b8-ae4e-5cdb2ac9037a"
   },
   "outputs": [
    {
     "data": {
      "image/png": "[encoded data removed]",
      "text/plain": [
       "<Figure size 432x288 with 1 Axes>"
      ]
     },
     "metadata": {
      "needs_background": "light",
      "tags": []
     },
     "output_type": "display_data"
    }
   ],
   "source": [
    "complaints['fado_type'].value_counts().plot(kind = 'bar');"
   ]
  },
  {
   "cell_type": "markdown",
   "metadata": {
    "id": "pbpJW_gMq67H"
   },
   "source": [
    "There are four different types of complaint. \"Abuse of Authority\" is by far the most reported complaint against police and has more than double the amount of any other group. The other groups are \"Force\", \"Discourtesy\" and \"Offensive Language\". "
   ]
  },
  {
   "cell_type": "code",
   "execution_count": 15,
   "metadata": {
    "colab": {
     "base_uri": "https://localhost:8080/"
    },
    "executionInfo": {
     "elapsed": 166,
     "status": "ok",
     "timestamp": 1624574727706,
     "user": {
      "displayName": "Yasmine Hays",
      "photoUrl": "https://lh3.googleusercontent.com/a-/AOh14Gg52PbFt6jwoxDYbyF_ch9EHM1JhezPqfXMZuGJ=s64",
      "userId": "05946308838878982885"
     },
     "user_tz": 420
    },
    "id": "z9CKDYL6ecgg",
    "outputId": "d190e633-04d6-41dd-e082-ff7a77d8986d"
   },
   "outputs": [
    {
     "name": "stdout",
     "output_type": "stream",
     "text": [
      "Abuse of Authority    0.627072\n",
      "Force                 0.219613\n",
      "Discourtesy           0.127993\n",
      "Offensive Language    0.025322\n",
      "Name: fado_type, dtype: float64\n",
      "Abuse of Authority    0.685297\n",
      "Force                 0.207223\n",
      "Discourtesy           0.095443\n",
      "Offensive Language    0.012038\n",
      "Name: fado_type, dtype: float64\n",
      "Abuse of Authority    0.581212\n",
      "Force                 0.237928\n",
      "Discourtesy           0.155399\n",
      "Offensive Language    0.025461\n",
      "Name: fado_type, dtype: float64\n"
     ]
    }
   ],
   "source": [
    "#Complaint type by precinct \n",
    "type_complaint = complaints.groupby(\"precinct\")[\"fado_type\"]\n",
    "\n",
    "#Proportion of each type of complaint for each of the three precints with the highest number of complaints\n",
    "print(type_complaint.get_group(75.0).value_counts(normalize = True))\n",
    "\n",
    "print(type_complaint.get_group(73.0).value_counts(normalize = True))\n",
    "\n",
    "print(type_complaint.get_group(44.0).value_counts(normalize = True))"
   ]
  },
  {
   "cell_type": "markdown",
   "metadata": {
    "id": "IkSpGv_ZF1SN"
   },
   "source": [
    "The proportion of the type of complaint for each of the three pecincts with the highest number of complaints all follow the same pattern. Abuse of authority is reported the most, followed by Force, then Discourtesy and finally Offensive Language"
   ]
  },
  {
   "cell_type": "code",
   "execution_count": 16,
   "metadata": {
    "executionInfo": {
     "elapsed": 156,
     "status": "ok",
     "timestamp": 1624574731497,
     "user": {
      "displayName": "Yasmine Hays",
      "photoUrl": "https://lh3.googleusercontent.com/a-/AOh14Gg52PbFt6jwoxDYbyF_ch9EHM1JhezPqfXMZuGJ=s64",
      "userId": "05946308838878982885"
     },
     "user_tz": 420
    },
    "id": "_k4f6lPUfi2B"
   },
   "outputs": [],
   "source": [
    "# Count and type of complaint by ethnicity \n",
    "complaints_by_race = complaints.groupby('complainant_ethnicity')['allegation']\n",
    "\n",
    "black_complaints = complaints_by_race.get_group('Black')\n",
    "white_complaints = complaints_by_race.get_group('White')\n",
    "hispanic_complaints = complaints_by_race.get_group('Hispanic')\n",
    "unknownrace_complaints= complaints_by_race.get_group('Unknown')\n",
    "otherrace_complaints = complaints_by_race.get_group('Other Race')\n",
    "asian_complaints = complaints_by_race.get_group('Asian')\n",
    "refusedrace_complaints =complaints_by_race.get_group('Refused')\n",
    "american_indian_complaints = complaints_by_race.get_group('American Indian')"
   ]
  },
  {
   "cell_type": "code",
   "execution_count": 17,
   "metadata": {
    "colab": {
     "base_uri": "https://localhost:8080/"
    },
    "executionInfo": {
     "elapsed": 147,
     "status": "ok",
     "timestamp": 1624574733906,
     "user": {
      "displayName": "Yasmine Hays",
      "photoUrl": "https://lh3.googleusercontent.com/a-/AOh14Gg52PbFt6jwoxDYbyF_ch9EHM1JhezPqfXMZuGJ=s64",
      "userId": "05946308838878982885"
     },
     "user_tz": 420
    },
    "id": "z-U5XR4gfyxD",
    "outputId": "e9984acf-84e9-428a-a565-0ed95150c241"
   },
   "outputs": [
    {
     "data": {
      "text/plain": [
       "Physical force                           2815\n",
       "Word                                     2071\n",
       "Stop                                     1450\n",
       "Search (of person)                       1185\n",
       "Frisk                                    1145\n",
       "Refusal to provide name/shield number     878\n",
       "Vehicle search                            864\n",
       "Vehicle stop                              684\n",
       "Threat of arrest                          636\n",
       "Threat of force (verbal or physical)      521\n",
       "Name: allegation, dtype: int64"
      ]
     },
     "execution_count": 17,
     "metadata": {
      "tags": []
     },
     "output_type": "execute_result"
    }
   ],
   "source": [
    "#Top complaints filed by black people\n",
    "black_complaints.value_counts(ascending = False).head(10)"
   ]
  },
  {
   "cell_type": "code",
   "execution_count": null,
   "metadata": {
    "colab": {
     "base_uri": "https://localhost:8080/"
    },
    "executionInfo": {
     "elapsed": 122,
     "status": "ok",
     "timestamp": 1624422532732,
     "user": {
      "displayName": "Yasmine Hays",
      "photoUrl": "https://lh3.googleusercontent.com/a-/AOh14Gg52PbFt6jwoxDYbyF_ch9EHM1JhezPqfXMZuGJ=s64",
      "userId": "05946308838878982885"
     },
     "user_tz": 420
    },
    "id": "tyfO21PNf0md",
    "outputId": "1140277a-8e7a-4daa-ef05-0cccf9660e21"
   },
   "outputs": [
    {
     "data": {
      "text/plain": [
       "Word                                     439\n",
       "Physical force                           416\n",
       "Threat of arrest                         204\n",
       "Refusal to provide name/shield number    180\n",
       "Search (of person)                       178\n",
       "Stop                                     166\n",
       "Vehicle search                           144\n",
       "Frisk                                    124\n",
       "Vehicle stop                             102\n",
       "Threat of force (verbal or physical)      90\n",
       "Name: allegation, dtype: int64"
      ]
     },
     "execution_count": 14,
     "metadata": {
      "tags": []
     },
     "output_type": "execute_result"
    }
   ],
   "source": [
    "#Top complaints filed by white people\n",
    "white_complaints.value_counts(ascending = False).head(10)"
   ]
  },
  {
   "cell_type": "code",
   "execution_count": 12,
   "metadata": {
    "colab": {
     "base_uri": "https://localhost:8080/"
    },
    "executionInfo": {
     "elapsed": 136,
     "status": "ok",
     "timestamp": 1624545150465,
     "user": {
      "displayName": "Yasmine Hays",
      "photoUrl": "https://lh3.googleusercontent.com/a-/AOh14Gg52PbFt6jwoxDYbyF_ch9EHM1JhezPqfXMZuGJ=s64",
      "userId": "05946308838878982885"
     },
     "user_tz": 420
    },
    "id": "yiFZymBYbi9H",
    "outputId": "45936fe9-d5b7-40f7-bf12-7aa6e4b2a296"
   },
   "outputs": [
    {
     "data": {
      "text/plain": [
       "Physical force                           1121\n",
       "Word                                      936\n",
       "Stop                                      454\n",
       "Search (of person)                        443\n",
       "Frisk                                     400\n",
       "Threat of arrest                          308\n",
       "Refusal to provide name/shield number     293\n",
       "Vehicle search                            290\n",
       "Vehicle stop                              217\n",
       "Threat of force (verbal or physical)      195\n",
       "Name: allegation, dtype: int64"
      ]
     },
     "execution_count": 12,
     "metadata": {
      "tags": []
     },
     "output_type": "execute_result"
    }
   ],
   "source": [
    "hispanic_complaints.value_counts(ascending = False).head(10)"
   ]
  },
  {
   "cell_type": "code",
   "execution_count": 13,
   "metadata": {
    "colab": {
     "base_uri": "https://localhost:8080/"
    },
    "executionInfo": {
     "elapsed": 140,
     "status": "ok",
     "timestamp": 1624545162537,
     "user": {
      "displayName": "Yasmine Hays",
      "photoUrl": "https://lh3.googleusercontent.com/a-/AOh14Gg52PbFt6jwoxDYbyF_ch9EHM1JhezPqfXMZuGJ=s64",
      "userId": "05946308838878982885"
     },
     "user_tz": 420
    },
    "id": "QazpNv70byV_",
    "outputId": "f59f34cc-9ff9-42e5-b9dd-d70c291b7008"
   },
   "outputs": [
    {
     "data": {
      "text/plain": [
       "Word                                     73\n",
       "Physical force                           69\n",
       "Threat of arrest                         61\n",
       "Vehicle stop                             29\n",
       "Vehicle search                           29\n",
       "Search (of person)                       28\n",
       "Frisk                                    26\n",
       "Stop                                     24\n",
       "Refusal to provide name/shield number    18\n",
       "Threat of force (verbal or physical)     16\n",
       "Name: allegation, dtype: int64"
      ]
     },
     "execution_count": 13,
     "metadata": {
      "tags": []
     },
     "output_type": "execute_result"
    }
   ],
   "source": [
    "asian_complaints.value_counts(ascending= False).head(10)"
   ]
  },
  {
   "cell_type": "code",
   "execution_count": 14,
   "metadata": {
    "colab": {
     "base_uri": "https://localhost:8080/"
    },
    "executionInfo": {
     "elapsed": 143,
     "status": "ok",
     "timestamp": 1624545199121,
     "user": {
      "displayName": "Yasmine Hays",
      "photoUrl": "https://lh3.googleusercontent.com/a-/AOh14Gg52PbFt6jwoxDYbyF_ch9EHM1JhezPqfXMZuGJ=s64",
      "userId": "05946308838878982885"
     },
     "user_tz": 420
    },
    "id": "gDDT31IScDe9",
    "outputId": "4849a6d6-865e-41cd-d6e0-a28263362fec"
   },
   "outputs": [
    {
     "data": {
      "text/plain": [
       "Search (of person)                      9\n",
       "Frisk                                   9\n",
       "Vehicle search                          7\n",
       "Stop                                    7\n",
       "Word                                    7\n",
       "Physical force                          4\n",
       "Threat of force (verbal or physical)    3\n",
       "Gun Pointed                             2\n",
       "Question                                2\n",
       "Threat of arrest                        2\n",
       "Name: allegation, dtype: int64"
      ]
     },
     "execution_count": 14,
     "metadata": {
      "tags": []
     },
     "output_type": "execute_result"
    }
   ],
   "source": [
    "american_indian_complaints.value_counts(ascending = False).head(10)"
   ]
  },
  {
   "cell_type": "markdown",
   "metadata": {
    "id": "77ROLmjfc-u_"
   },
   "source": [
    "The top allegations against NYPD police officers are of a physical nature for Black People and Hispanic People, but of a verbal nature for white people and Asian people. Allegations made by American Indians mostly pertained to being searched.\n"
   ]
  },
  {
   "cell_type": "code",
   "execution_count": 18,
   "metadata": {
    "executionInfo": {
     "elapsed": 153,
     "status": "ok",
     "timestamp": 1624574742783,
     "user": {
      "displayName": "Yasmine Hays",
      "photoUrl": "https://lh3.googleusercontent.com/a-/AOh14Gg52PbFt6jwoxDYbyF_ch9EHM1JhezPqfXMZuGJ=s64",
      "userId": "05946308838878982885"
     },
     "user_tz": 420
    },
    "id": "ol_MAEErgge-"
   },
   "outputs": [],
   "source": [
    "#Catagory of complaint by ethnicity\n",
    "type_per_ethnicity = complaints.groupby('fado_type')['complainant_ethnicity']"
   ]
  },
  {
   "cell_type": "code",
   "execution_count": 19,
   "metadata": {
    "colab": {
     "base_uri": "https://localhost:8080/",
     "height": 337
    },
    "executionInfo": {
     "elapsed": 386,
     "status": "ok",
     "timestamp": 1624574744020,
     "user": {
      "displayName": "Yasmine Hays",
      "photoUrl": "https://lh3.googleusercontent.com/a-/AOh14Gg52PbFt6jwoxDYbyF_ch9EHM1JhezPqfXMZuGJ=s64",
      "userId": "05946308838878982885"
     },
     "user_tz": 420
    },
    "id": "RWu7sDCuhW0U",
    "outputId": "fe210c52-f4ed-4d46-bbaa-ce7ffaff10a8"
   },
   "outputs": [
    {
     "data": {
      "image/png": "[encoded data removed]",
      "text/plain": [
       "<Figure size 432x288 with 1 Axes>"
      ]
     },
     "metadata": {
      "needs_background": "light",
      "tags": []
     },
     "output_type": "display_data"
    }
   ],
   "source": [
    "#Proportion of \"Force\" Complaints by ethnicity\n",
    "type_per_ethnicity.get_group('Force').value_counts(normalize = True).plot(kind = 'bar');"
   ]
  },
  {
   "cell_type": "code",
   "execution_count": 20,
   "metadata": {
    "colab": {
     "base_uri": "https://localhost:8080/",
     "height": 337
    },
    "executionInfo": {
     "elapsed": 437,
     "status": "ok",
     "timestamp": 1624574748282,
     "user": {
      "displayName": "Yasmine Hays",
      "photoUrl": "https://lh3.googleusercontent.com/a-/AOh14Gg52PbFt6jwoxDYbyF_ch9EHM1JhezPqfXMZuGJ=s64",
      "userId": "05946308838878982885"
     },
     "user_tz": 420
    },
    "id": "0D2DbI-FLvDs",
    "outputId": "d6ea8bdc-a1f3-482e-8296-426ec287632f"
   },
   "outputs": [
    {
     "data": {
      "image/png": "[encoded data removed]",
      "text/plain": [
       "<Figure size 432x288 with 1 Axes>"
      ]
     },
     "metadata": {
      "needs_background": "light",
      "tags": []
     },
     "output_type": "display_data"
    }
   ],
   "source": [
    "#Proportion of \"Abuse of Authority\" Complaints by ethnicity\n",
    "type_per_ethnicity.get_group('Abuse of Authority').value_counts(normalize = True).plot(kind = 'bar');"
   ]
  },
  {
   "cell_type": "code",
   "execution_count": 21,
   "metadata": {
    "colab": {
     "base_uri": "https://localhost:8080/",
     "height": 337
    },
    "executionInfo": {
     "elapsed": 403,
     "status": "ok",
     "timestamp": 1624574759183,
     "user": {
      "displayName": "Yasmine Hays",
      "photoUrl": "https://lh3.googleusercontent.com/a-/AOh14Gg52PbFt6jwoxDYbyF_ch9EHM1JhezPqfXMZuGJ=s64",
      "userId": "05946308838878982885"
     },
     "user_tz": 420
    },
    "id": "GPlAUsKkMNYE",
    "outputId": "f75011c4-fbf6-44f5-b3f2-bbab7f9e6910"
   },
   "outputs": [
    {
     "data": {
      "image/png": "[encoded data removed]",
      "text/plain": [
       "<Figure size 432x288 with 1 Axes>"
      ]
     },
     "metadata": {
      "needs_background": "light",
      "tags": []
     },
     "output_type": "display_data"
    }
   ],
   "source": [
    "#Proportion of \"Offensive Language\" Complaints by ethnicity\n",
    "type_per_ethnicity.get_group('Offensive Language').value_counts(normalize = True).plot(kind = 'bar');"
   ]
  },
  {
   "cell_type": "code",
   "execution_count": 16,
   "metadata": {
    "colab": {
     "base_uri": "https://localhost:8080/",
     "height": 337
    },
    "executionInfo": {
     "elapsed": 329,
     "status": "ok",
     "timestamp": 1624511257409,
     "user": {
      "displayName": "Yasmine Hays",
      "photoUrl": "https://lh3.googleusercontent.com/a-/AOh14Gg52PbFt6jwoxDYbyF_ch9EHM1JhezPqfXMZuGJ=s64",
      "userId": "05946308838878982885"
     },
     "user_tz": 420
    },
    "id": "fRgMxllcaWZa",
    "outputId": "d090415a-90a0-42b8-e81b-b62471d61ee4"
   },
   "outputs": [
    {
     "data": {
      "image/png": "[encoded data removed]",
      "text/plain": [
       "<Figure size 432x288 with 1 Axes>"
      ]
     },
     "metadata": {
      "needs_background": "light",
      "tags": []
     },
     "output_type": "display_data"
    }
   ],
   "source": [
    "#Proportion of \"Discourtesy\" Complaints by ethnicity\n",
    "type_per_ethnicity.get_group('Discourtesy').value_counts(normalize = True).plot(kind = 'bar');\n"
   ]
  },
  {
   "cell_type": "markdown",
   "metadata": {
    "id": "j3EfEuMwcX_A"
   },
   "source": [
    "These charts show the proportion of each race who filed each type of complaint. Every chart shows the same trend, over 50% Black then hispanic then white."
   ]
  },
  {
   "cell_type": "code",
   "execution_count": 25,
   "metadata": {
    "colab": {
     "base_uri": "https://localhost:8080/",
     "height": 708
    },
    "executionInfo": {
     "elapsed": 849,
     "status": "ok",
     "timestamp": 1624574851348,
     "user": {
      "displayName": "Yasmine Hays",
      "photoUrl": "https://lh3.googleusercontent.com/a-/AOh14Gg52PbFt6jwoxDYbyF_ch9EHM1JhezPqfXMZuGJ=s64",
      "userId": "05946308838878982885"
     },
     "user_tz": 420
    },
    "id": "mPEzcj7Shmkx",
    "outputId": "f3e18698-9a2c-4b39-8a35-34290a977314"
   },
   "outputs": [
    {
     "data": {
      "image/png": "[encoded data removed]",
      "text/plain": [
       "<Figure size 720x720 with 1 Axes>"
      ]
     },
     "metadata": {
      "needs_background": "light",
      "tags": []
     },
     "output_type": "display_data"
    }
   ],
   "source": [
    "#Proportion of complaints by ethnicity per precinct\n",
    "race_by_precinct = complaints.groupby(\"precinct\")[\"complainant_ethnicity\"].value_counts(normalize = True)\n",
    "race_by_precinct.head(50).plot(kind = 'bar', figsize = (10,10));"
   ]
  },
  {
   "cell_type": "code",
   "execution_count": 27,
   "metadata": {
    "executionInfo": {
     "elapsed": 161,
     "status": "ok",
     "timestamp": 1624574880042,
     "user": {
      "displayName": "Yasmine Hays",
      "photoUrl": "https://lh3.googleusercontent.com/a-/AOh14Gg52PbFt6jwoxDYbyF_ch9EHM1JhezPqfXMZuGJ=s64",
      "userId": "05946308838878982885"
     },
     "user_tz": 420
    },
    "id": "B4Xc-La_xY0V"
   },
   "outputs": [],
   "source": [
    "#Outcome of complaint by ethnicity of complainant\n",
    "outcomes= complaints.groupby('complainant_ethnicity')['outcome_description']"
   ]
  },
  {
   "cell_type": "code",
   "execution_count": 28,
   "metadata": {
    "colab": {
     "base_uri": "https://localhost:8080/"
    },
    "executionInfo": {
     "elapsed": 151,
     "status": "ok",
     "timestamp": 1624574881065,
     "user": {
      "displayName": "Yasmine Hays",
      "photoUrl": "https://lh3.googleusercontent.com/a-/AOh14Gg52PbFt6jwoxDYbyF_ch9EHM1JhezPqfXMZuGJ=s64",
      "userId": "05946308838878982885"
     },
     "user_tz": 420
    },
    "id": "Mx_MLZMHJ97-",
    "outputId": "d137c0b0-9786-4a07-f70f-381289f4007c"
   },
   "outputs": [
    {
     "data": {
      "text/plain": [
       "No arrest made or summons issued        6145\n",
       "Arrest - other violation/crime          5390\n",
       "Summons - disorderly conduct            1233\n",
       "Summons - other violation/crime         1033\n",
       "Arrest - resisting arrest                888\n",
       "Arrest - disorderly conduct              595\n",
       "Arrest - assault (against a PO)          546\n",
       "Arrest - OGA                             421\n",
       "Moving violation summons issued          389\n",
       "Other VTL violation summons issued       269\n",
       "Parking summons issued                   148\n",
       "Juvenile Report                           35\n",
       "Arrest - harrassment (against a PO)        8\n",
       "Summons - harrassment (against a PO)       1\n",
       "Summons - OGA                              1\n",
       "Name: outcome_description, dtype: int64"
      ]
     },
     "execution_count": 28,
     "metadata": {
      "tags": []
     },
     "output_type": "execute_result"
    }
   ],
   "source": [
    "#Outcomes by percentage for black people\n",
    "outcomes.get_group('Black').value_counts()"
   ]
  },
  {
   "cell_type": "code",
   "execution_count": 29,
   "metadata": {
    "colab": {
     "base_uri": "https://localhost:8080/"
    },
    "executionInfo": {
     "elapsed": 144,
     "status": "ok",
     "timestamp": 1624574883008,
     "user": {
      "displayName": "Yasmine Hays",
      "photoUrl": "https://lh3.googleusercontent.com/a-/AOh14Gg52PbFt6jwoxDYbyF_ch9EHM1JhezPqfXMZuGJ=s64",
      "userId": "05946308838878982885"
     },
     "user_tz": 420
    },
    "id": "ARS4j1UYJ-yD",
    "outputId": "0409be0d-f2f3-4d33-a942-32d2fb9459c9"
   },
   "outputs": [
    {
     "data": {
      "text/plain": [
       "No arrest made or summons issued       1177\n",
       "Arrest - other violation/crime          670\n",
       "Summons - other violation/crime         232\n",
       "Summons - disorderly conduct            164\n",
       "Moving violation summons issued         162\n",
       "Arrest - resisting arrest               111\n",
       "Arrest - assault (against a PO)          75\n",
       "Arrest - disorderly conduct              70\n",
       "Other VTL violation summons issued       48\n",
       "Arrest - OGA                             38\n",
       "Parking summons issued                   26\n",
       "Arrest - harrassment (against a PO)       1\n",
       "Name: outcome_description, dtype: int64"
      ]
     },
     "execution_count": 29,
     "metadata": {
      "tags": []
     },
     "output_type": "execute_result"
    }
   ],
   "source": [
    "# Outcomes by percentage for white people\n",
    "outcomes.get_group('White').value_counts()"
   ]
  },
  {
   "cell_type": "code",
   "execution_count": 30,
   "metadata": {
    "colab": {
     "base_uri": "https://localhost:8080/"
    },
    "executionInfo": {
     "elapsed": 138,
     "status": "ok",
     "timestamp": 1624574884820,
     "user": {
      "displayName": "Yasmine Hays",
      "photoUrl": "https://lh3.googleusercontent.com/a-/AOh14Gg52PbFt6jwoxDYbyF_ch9EHM1JhezPqfXMZuGJ=s64",
      "userId": "05946308838878982885"
     },
     "user_tz": 420
    },
    "id": "dpnVlHb8lOBm",
    "outputId": "69039c2e-ee09-4beb-bc48-61286870e925"
   },
   "outputs": [
    {
     "data": {
      "text/plain": [
       "No arrest made or summons issued        2189\n",
       "Arrest - other violation/crime          2139\n",
       "Summons - disorderly conduct             479\n",
       "Arrest - resisting arrest                373\n",
       "Summons - other violation/crime          373\n",
       "Arrest - disorderly conduct              249\n",
       "Other VTL violation summons issued       155\n",
       "Moving violation summons issued          150\n",
       "Arrest - assault (against a PO)          139\n",
       "Arrest - OGA                             100\n",
       "Parking summons issued                    58\n",
       "Juvenile Report                            6\n",
       "Summons - harrassment (against a PO)       4\n",
       "Name: outcome_description, dtype: int64"
      ]
     },
     "execution_count": 30,
     "metadata": {
      "tags": []
     },
     "output_type": "execute_result"
    }
   ],
   "source": [
    "# Outcomes by percentage for Hispanic people\n",
    "outcomes.get_group('Hispanic').value_counts()"
   ]
  },
  {
   "cell_type": "code",
   "execution_count": 31,
   "metadata": {
    "colab": {
     "base_uri": "https://localhost:8080/"
    },
    "executionInfo": {
     "elapsed": 180,
     "status": "ok",
     "timestamp": 1624574886317,
     "user": {
      "displayName": "Yasmine Hays",
      "photoUrl": "https://lh3.googleusercontent.com/a-/AOh14Gg52PbFt6jwoxDYbyF_ch9EHM1JhezPqfXMZuGJ=s64",
      "userId": "05946308838878982885"
     },
     "user_tz": 420
    },
    "id": "hLiUao02mLCv",
    "outputId": "da8f1504-19cb-4a9a-c90e-75d24adb8359"
   },
   "outputs": [
    {
     "data": {
      "text/plain": [
       "No arrest made or summons issued      218\n",
       "Arrest - other violation/crime        121\n",
       "Moving violation summons issued        54\n",
       "Summons - other violation/crime        38\n",
       "Summons - disorderly conduct           29\n",
       "Arrest - resisting arrest              25\n",
       "Arrest - OGA                           12\n",
       "Parking summons issued                 11\n",
       "Arrest - assault (against a PO)         8\n",
       "Arrest - disorderly conduct             7\n",
       "Other VTL violation summons issued      7\n",
       "Name: outcome_description, dtype: int64"
      ]
     },
     "execution_count": 31,
     "metadata": {
      "tags": []
     },
     "output_type": "execute_result"
    }
   ],
   "source": [
    "# Outcomes by percentage for Asian people\n",
    "outcomes.get_group('Asian').value_counts()"
   ]
  },
  {
   "cell_type": "code",
   "execution_count": 32,
   "metadata": {
    "colab": {
     "base_uri": "https://localhost:8080/"
    },
    "executionInfo": {
     "elapsed": 141,
     "status": "ok",
     "timestamp": 1624574888207,
     "user": {
      "displayName": "Yasmine Hays",
      "photoUrl": "https://lh3.googleusercontent.com/a-/AOh14Gg52PbFt6jwoxDYbyF_ch9EHM1JhezPqfXMZuGJ=s64",
      "userId": "05946308838878982885"
     },
     "user_tz": 420
    },
    "id": "ODpnKKv_nlTP",
    "outputId": "11010b26-e05c-469e-b32e-89979a749526"
   },
   "outputs": [
    {
     "data": {
      "text/plain": [
       "No arrest made or summons issued      3400\n",
       "Summons - disorderly conduct          1000\n",
       "Arrest - other violation/crime         800\n",
       "Other VTL violation summons issued     700\n",
       "Summons - other violation/crime        300\n",
       "Moving violation summons issued        200\n",
       "Name: outcome_description, dtype: int64"
      ]
     },
     "execution_count": 32,
     "metadata": {
      "tags": []
     },
     "output_type": "execute_result"
    }
   ],
   "source": [
    "# Outcomes by percentage for American Indian people\n",
    "outcomes.get_group('American Indian').value_counts()*100"
   ]
  },
  {
   "cell_type": "markdown",
   "metadata": {
    "id": "HYOLME8Ule3C"
   },
   "source": [
    "For each ethnicity the outcome of the complaint most often did not result in arrest. The complaints that did result in arrest broke down as follows: 46.7% of Hispanics who complained were arrested, 45.8% of Black People who complained were arrested, 34.7% of White people who complained were arrested, 12.5% of Asian people who complained were arrested and 12.5% of American Indian people who complained were arrested. "
   ]
  }
 ],
 "metadata": {
  "colab": {
   "authorship_tag": "ABX9TyM4BkuMXr7k9TwPgbSx1vI/",
   "collapsed_sections": [],
   "name": "Complaints EDA",
   "provenance": []
  },
  "kernelspec": {
   "display_name": "Python 3",
   "language": "python",
   "name": "python3"
  },
  "language_info": {
   "codemirror_mode": {
    "name": "ipython",
    "version": 3
   },
   "file_extension": ".py",
   "mimetype": "text/x-python",
   "name": "python",
   "nbconvert_exporter": "python",
   "pygments_lexer": "ipython3",
   "version": "3.8.5"
  }
 },
 "nbformat": 4,
 "nbformat_minor": 1
}
